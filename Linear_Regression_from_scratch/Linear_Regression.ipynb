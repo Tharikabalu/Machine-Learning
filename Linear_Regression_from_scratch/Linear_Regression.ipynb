{
  "nbformat": 4,
  "nbformat_minor": 0,
  "metadata": {
    "colab": {
      "provenance": []
    },
    "kernelspec": {
      "name": "python3",
      "display_name": "Python 3"
    },
    "language_info": {
      "name": "python"
    }
  },
  "cells": [
    {
      "cell_type": "code",
      "execution_count": 1,
      "metadata": {
        "id": "fLWBFEB6GMg1"
      },
      "outputs": [],
      "source": [
        "ds=\"/content/ex1data1.txt\""
      ]
    },
    {
      "cell_type": "code",
      "source": [
        "X=[]\n",
        "Y=[]\n",
        "with open(ds) as f:\n",
        "  for s in f:\n",
        "    x,y=s.split(\",\")\n",
        "    X.append(float(x))\n",
        "    Y.append(float(y))"
      ],
      "metadata": {
        "id": "BqIpVOz-G_Ea"
      },
      "execution_count": 2,
      "outputs": []
    },
    {
      "cell_type": "code",
      "source": [
        "x_train=X[:95]\n",
        "y_train=Y[:95]\n",
        "x_test=X[95:]\n",
        "y_test=Y[95:]"
      ],
      "metadata": {
        "id": "q7srG2hRHI-3"
      },
      "execution_count": 3,
      "outputs": []
    },
    {
      "cell_type": "code",
      "source": [
        "len(y_test)"
      ],
      "metadata": {
        "colab": {
          "base_uri": "https://localhost:8080/"
        },
        "id": "W0pO_omXH6Ry",
        "outputId": "c73ff019-e180-441e-f27c-32ffd0a7f240"
      },
      "execution_count": 4,
      "outputs": [
        {
          "output_type": "execute_result",
          "data": {
            "text/plain": [
              "2"
            ]
          },
          "metadata": {},
          "execution_count": 4
        }
      ]
    },
    {
      "cell_type": "code",
      "source": [
        "w_in=1\n",
        "b_in=1"
      ],
      "metadata": {
        "id": "Mmy1zJUtIwlX"
      },
      "execution_count": 5,
      "outputs": []
    },
    {
      "cell_type": "code",
      "source": [
        "def compute_cost(x,y,w,b):\n",
        "  total_cost=0\n",
        "  for i in range(len(x)):\n",
        "    pred=w*x[i]+b\n",
        "    total_cost+=(pred-y[i])**2\n",
        "    total_cost=total_cost/(2*len(x))\n",
        "  return total_cost"
      ],
      "metadata": {
        "id": "J1MFJicvJA0F"
      },
      "execution_count": 6,
      "outputs": []
    },
    {
      "cell_type": "code",
      "source": [
        "cost_in=compute_cost(x_train,y_train,w_in,b_in)"
      ],
      "metadata": {
        "id": "Yz9bMxfDJLkT"
      },
      "execution_count": 7,
      "outputs": []
    },
    {
      "cell_type": "code",
      "source": [
        "cost_in"
      ],
      "metadata": {
        "colab": {
          "base_uri": "https://localhost:8080/"
        },
        "id": "3yVYwzeoJzX6",
        "outputId": "77ef6a8b-26f7-40d9-a833-2aefb2b90014"
      },
      "execution_count": 8,
      "outputs": [
        {
          "output_type": "execute_result",
          "data": {
            "text/plain": [
              "0.44105157937354744"
            ]
          },
          "metadata": {},
          "execution_count": 8
        }
      ]
    },
    {
      "cell_type": "code",
      "source": [
        "def gradient(x,y,w,b):\n",
        "  m=len(x)\n",
        "  djdw=0\n",
        "  djdb=0\n",
        "  for i in range(m):\n",
        "    pred=w*x[i]+b\n",
        "    djdw+=(pred-y[i])*x[i]\n",
        "    djdb+=(pred-y[i])\n",
        "  djdw=djdw/m\n",
        "  djdb=djdb/m\n",
        "  return djdw,djdb"
      ],
      "metadata": {
        "id": "XTyV6RTeJ14X"
      },
      "execution_count": 11,
      "outputs": []
    },
    {
      "cell_type": "code",
      "source": [
        "dw,db=gradient(x_train,y_train,w_in,b_in)"
      ],
      "metadata": {
        "id": "vHU3fX2OKFRH"
      },
      "execution_count": 12,
      "outputs": []
    },
    {
      "cell_type": "code",
      "source": [
        "dw,db"
      ],
      "metadata": {
        "colab": {
          "base_uri": "https://localhost:8080/"
        },
        "id": "PkO9B87UKkcR",
        "outputId": "4342de33-9cad-4364-b3ce-272c3bb499f0"
      },
      "execution_count": 13,
      "outputs": [
        {
          "output_type": "execute_result",
          "data": {
            "text/plain": [
              "(23.659299572168415, 3.2731131578947372)"
            ]
          },
          "metadata": {},
          "execution_count": 13
        }
      ]
    },
    {
      "cell_type": "code",
      "source": [
        "def update(x,y,w,b,a,iter):\n",
        "  for i in range(iter):\n",
        "    dw,db=gradient(x,y,w,b)\n",
        "    w=w-a*dw\n",
        "    b=b-a*db\n",
        "    if i%2000==0:\n",
        "      cost=compute_cost(x,y,w,b)\n",
        "      print(cost)\n",
        "  return w,b"
      ],
      "metadata": {
        "id": "lliKOQA8K8nE"
      },
      "execution_count": 19,
      "outputs": []
    },
    {
      "cell_type": "code",
      "source": [
        "w_upd,b_upd=update(x_train,y_train,w_in,b_in,0.001,100000)"
      ],
      "metadata": {
        "colab": {
          "base_uri": "https://localhost:8080/"
        },
        "id": "R10dOFI1KxtA",
        "outputId": "a96d51af-4911-470d-fc11-7dba9555f90e"
      },
      "execution_count": 22,
      "outputs": [
        {
          "output_type": "stream",
          "name": "stdout",
          "text": [
            "0.4220191311622797\n",
            "0.22021116705194674\n",
            "0.2087788537404071\n",
            "0.2009997898172433\n",
            "0.19567024386539808\n",
            "0.1920008445001811\n",
            "0.18946554609586483\n",
            "0.18770945409260512\n",
            "0.1864909416441469\n",
            "0.18564439696243673\n",
            "0.18505576163521725\n",
            "0.18464621233643777\n",
            "0.18436114325178565\n",
            "0.18416266059533637\n",
            "0.18402443620955242\n",
            "0.18392816214529648\n",
            "0.18386109998460476\n",
            "0.18381438285307766\n",
            "0.1837818369761824\n",
            "0.1837591628506182\n",
            "0.18374336582204134\n",
            "0.18373235987476547\n",
            "0.18372469183340653\n",
            "0.18371934932830822\n",
            "0.18371562705833772\n",
            "0.18371303364057215\n",
            "0.18371122672329104\n",
            "0.18370996778372847\n",
            "0.18370909063737337\n",
            "0.18370847949887512\n",
            "0.1837080536970683\n",
            "0.18370775702575784\n",
            "0.183707550324207\n",
            "0.18370740630778573\n",
            "0.18370730596633905\n",
            "0.18370723605481862\n",
            "0.1837071873449263\n",
            "0.18370715340697572\n",
            "0.18370712976117248\n",
            "0.18370711328628173\n",
            "0.1837071018076263\n",
            "0.18370709381002961\n",
            "0.18370708823781284\n",
            "0.18370708435544714\n",
            "0.18370708165046165\n",
            "0.18370707976579928\n",
            "0.18370707845268688\n",
            "0.18370707753779356\n",
            "0.18370707690035415\n",
            "0.18370707645622694\n"
          ]
        }
      ]
    },
    {
      "cell_type": "code",
      "source": [
        "import matplotlib.pyplot as plt"
      ],
      "metadata": {
        "id": "NbQ5A6tpMBJW"
      },
      "execution_count": 23,
      "outputs": []
    },
    {
      "cell_type": "code",
      "source": [
        "PRED_Y=[]\n",
        "for i in range(len(x_train)):\n",
        "  pred=w_upd*x_train[i]+b_upd\n",
        "  PRED_Y.append(pred)"
      ],
      "metadata": {
        "id": "hd84QOpBMkFh"
      },
      "execution_count": 25,
      "outputs": []
    },
    {
      "cell_type": "code",
      "source": [
        "plt.scatter(x_train,y_train)\n",
        "plt.plot(x_train,PRED_Y)"
      ],
      "metadata": {
        "colab": {
          "base_uri": "https://localhost:8080/",
          "height": 447
        },
        "id": "vBaQBeyGMiFR",
        "outputId": "614c6dad-bb7a-42f8-b4cd-e6958388baa1"
      },
      "execution_count": 26,
      "outputs": [
        {
          "output_type": "execute_result",
          "data": {
            "text/plain": [
              "[<matplotlib.lines.Line2D at 0x7f63a228f9a0>]"
            ]
          },
          "metadata": {},
          "execution_count": 26
        },
        {
          "output_type": "display_data",
          "data": {
            "text/plain": [
              "<Figure size 640x480 with 1 Axes>"
            ],
            "image/png": "[encoded data removed]"
          },
          "metadata": {}
        }
      ]
    },
    {
      "cell_type": "code",
      "source": [
        "y_test"
      ],
      "metadata": {
        "colab": {
          "base_uri": "https://localhost:8080/"
        },
        "id": "SHjkPQF6NE7s",
        "outputId": "fc8f5543-1f21-4574-9763-4f094c1bf730"
      },
      "execution_count": 28,
      "outputs": [
        {
          "output_type": "execute_result",
          "data": {
            "text/plain": [
              "[9.0551, 0.61705]"
            ]
          },
          "metadata": {},
          "execution_count": 28
        }
      ]
    },
    {
      "cell_type": "code",
      "source": [
        "pred_y1=w_upd*x_test[0]+b_upd\n",
        "pred_y2=w_upd*x_test[1]+b_upd\n",
        "print(pred_y1,pred_y2)"
      ],
      "metadata": {
        "colab": {
          "base_uri": "https://localhost:8080/"
        },
        "id": "-D5C1Y2PNI6b",
        "outputId": "df5cc643-7943-4112-e2d1-f4c3d4f8b4fd"
      },
      "execution_count": 29,
      "outputs": [
        {
          "output_type": "stream",
          "name": "stdout",
          "text": [
            "12.176157109807958 2.6228826237615266\n"
          ]
        }
      ]
    },
    {
      "cell_type": "code",
      "source": [],
      "metadata": {
        "id": "hrOyQuC0NdKL"
      },
      "execution_count": null,
      "outputs": []
    }
  ]
}